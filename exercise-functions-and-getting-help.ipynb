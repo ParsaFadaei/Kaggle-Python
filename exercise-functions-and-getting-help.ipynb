{
 "cells": [
  {
   "cell_type": "markdown",
   "id": "cdd37b09",
   "metadata": {
    "papermill": {
     "duration": 0.011009,
     "end_time": "2023-02-19T09:21:54.097738",
     "exception": false,
     "start_time": "2023-02-19T09:21:54.086729",
     "status": "completed"
    },
    "tags": []
   },
   "source": [
    "**This notebook is an exercise in the [Python](https://www.kaggle.com/learn/python) course.  You can reference the tutorial at [this link](https://www.kaggle.com/colinmorris/functions-and-getting-help).**\n",
    "\n",
    "---\n"
   ]
  },
  {
   "cell_type": "markdown",
   "id": "1f3e0d94",
   "metadata": {
    "papermill": {
     "duration": 0.004643,
     "end_time": "2023-02-19T09:21:54.108383",
     "exception": false,
     "start_time": "2023-02-19T09:21:54.103740",
     "status": "completed"
    },
    "tags": []
   },
   "source": [
    "Functions are powerful. Try writing some yourself.\n",
    "\n",
    "As before, don't forget to run the setup code below before jumping into question 1."
   ]
  },
  {
   "cell_type": "code",
   "execution_count": 1,
   "id": "3f114b99",
   "metadata": {
    "_kg_hide-input": true,
    "_kg_hide-output": true,
    "execution": {
     "iopub.execute_input": "2023-02-19T09:21:54.121665Z",
     "iopub.status.busy": "2023-02-19T09:21:54.120634Z",
     "iopub.status.idle": "2023-02-19T09:21:54.179912Z",
     "shell.execute_reply": "2023-02-19T09:21:54.178600Z"
    },
    "papermill": {
     "duration": 0.070336,
     "end_time": "2023-02-19T09:21:54.183836",
     "exception": false,
     "start_time": "2023-02-19T09:21:54.113500",
     "status": "completed"
    },
    "tags": []
   },
   "outputs": [
    {
     "name": "stdout",
     "output_type": "stream",
     "text": [
      "Setup complete.\n"
     ]
    }
   ],
   "source": [
    "# SETUP. You don't need to worry for now about what this code does or how it works.\n",
    "from learntools.core import binder; binder.bind(globals())\n",
    "from learntools.python.ex2 import *\n",
    "print('Setup complete.')"
   ]
  },
  {
   "cell_type": "markdown",
   "id": "274fa8f1",
   "metadata": {
    "papermill": {
     "duration": 0.00475,
     "end_time": "2023-02-19T09:21:54.193948",
     "exception": false,
     "start_time": "2023-02-19T09:21:54.189198",
     "status": "completed"
    },
    "tags": []
   },
   "source": [
    "# 1.\n",
    "\n",
    "Complete the body of the following function according to its docstring.\n",
    "\n",
    "HINT: Python has a built-in function `round`."
   ]
  },
  {
   "cell_type": "code",
   "execution_count": 2,
   "id": "f68e7d36",
   "metadata": {
    "execution": {
     "iopub.execute_input": "2023-02-19T09:21:54.207156Z",
     "iopub.status.busy": "2023-02-19T09:21:54.205731Z",
     "iopub.status.idle": "2023-02-19T09:21:54.219068Z",
     "shell.execute_reply": "2023-02-19T09:21:54.217853Z"
    },
    "papermill": {
     "duration": 0.023521,
     "end_time": "2023-02-19T09:21:54.222512",
     "exception": false,
     "start_time": "2023-02-19T09:21:54.198991",
     "status": "completed"
    },
    "tags": []
   },
   "outputs": [
    {
     "data": {
      "application/javascript": [
       "parent.postMessage({\"jupyterEvent\": \"custom.exercise_interaction\", \"data\": {\"outcomeType\": 1, \"valueTowardsCompletion\": 0.16666666666666666, \"interactionType\": 1, \"questionType\": 2, \"questionId\": \"1_RoundFunctionProblem\", \"learnToolsVersion\": \"0.3.4\", \"failureMessage\": \"\", \"exceptionClass\": \"\", \"trace\": \"\"}}, \"*\")"
      ],
      "text/plain": [
       "<IPython.core.display.Javascript object>"
      ]
     },
     "metadata": {},
     "output_type": "display_data"
    },
    {
     "data": {
      "text/markdown": [
       "<span style=\"color:#33cc33\">Correct</span>"
      ],
      "text/plain": [
       "Correct"
      ]
     },
     "metadata": {},
     "output_type": "display_data"
    }
   ],
   "source": [
    "def round_to_two_places(num):\n",
    "    \"\"\"Return the given number rounded to two decimal places. \n",
    "    \n",
    "    >>> round_to_two_places(3.14159)\n",
    "    3.14\n",
    "    \"\"\"\n",
    "    return round(num, 2)\n",
    "    pass\n",
    "\n",
    "# Check your answer\n",
    "q1.check()"
   ]
  },
  {
   "cell_type": "code",
   "execution_count": 3,
   "id": "4abe991d",
   "metadata": {
    "execution": {
     "iopub.execute_input": "2023-02-19T09:21:54.236164Z",
     "iopub.status.busy": "2023-02-19T09:21:54.235655Z",
     "iopub.status.idle": "2023-02-19T09:21:54.241458Z",
     "shell.execute_reply": "2023-02-19T09:21:54.239982Z"
    },
    "papermill": {
     "duration": 0.015932,
     "end_time": "2023-02-19T09:21:54.244153",
     "exception": false,
     "start_time": "2023-02-19T09:21:54.228221",
     "status": "completed"
    },
    "tags": []
   },
   "outputs": [],
   "source": [
    "# Uncomment the following for a hint\n",
    "#q1.hint()\n",
    "# Or uncomment the following to peek at the solution\n",
    "#q1.solution()"
   ]
  },
  {
   "cell_type": "markdown",
   "id": "8256abda",
   "metadata": {
    "papermill": {
     "duration": 0.005689,
     "end_time": "2023-02-19T09:21:54.256278",
     "exception": false,
     "start_time": "2023-02-19T09:21:54.250589",
     "status": "completed"
    },
    "tags": []
   },
   "source": [
    "# 2.\n",
    "The help for `round` says that `ndigits` (the second argument) may be negative.\n",
    "What do you think will happen when it is? Try some examples in the following cell."
   ]
  },
  {
   "cell_type": "code",
   "execution_count": 4,
   "id": "b093f25a",
   "metadata": {
    "execution": {
     "iopub.execute_input": "2023-02-19T09:21:54.269851Z",
     "iopub.status.busy": "2023-02-19T09:21:54.269040Z",
     "iopub.status.idle": "2023-02-19T09:21:54.273649Z",
     "shell.execute_reply": "2023-02-19T09:21:54.272714Z"
    },
    "papermill": {
     "duration": 0.014282,
     "end_time": "2023-02-19T09:21:54.276109",
     "exception": false,
     "start_time": "2023-02-19T09:21:54.261827",
     "status": "completed"
    },
    "tags": []
   },
   "outputs": [],
   "source": [
    "# Put your test code here"
   ]
  },
  {
   "cell_type": "markdown",
   "id": "def78840",
   "metadata": {
    "papermill": {
     "duration": 0.004938,
     "end_time": "2023-02-19T09:21:54.286575",
     "exception": false,
     "start_time": "2023-02-19T09:21:54.281637",
     "status": "completed"
    },
    "tags": []
   },
   "source": [
    "Can you think of a case where this would be useful?  Once you're ready, run the code cell below to see the answer and to receive credit for completing the problem."
   ]
  },
  {
   "cell_type": "code",
   "execution_count": 5,
   "id": "25811fe9",
   "metadata": {
    "execution": {
     "iopub.execute_input": "2023-02-19T09:21:54.299894Z",
     "iopub.status.busy": "2023-02-19T09:21:54.299082Z",
     "iopub.status.idle": "2023-02-19T09:21:54.308302Z",
     "shell.execute_reply": "2023-02-19T09:21:54.307150Z"
    },
    "papermill": {
     "duration": 0.018931,
     "end_time": "2023-02-19T09:21:54.310877",
     "exception": false,
     "start_time": "2023-02-19T09:21:54.291946",
     "status": "completed"
    },
    "tags": []
   },
   "outputs": [
    {
     "data": {
      "application/javascript": [
       "parent.postMessage({\"jupyterEvent\": \"custom.exercise_interaction\", \"data\": {\"interactionType\": 3, \"questionType\": 4, \"questionId\": \"2_RoundNdigitsProblem\", \"learnToolsVersion\": \"0.3.4\", \"valueTowardsCompletion\": 0.0, \"failureMessage\": \"\", \"exceptionClass\": \"\", \"trace\": \"\", \"outcomeType\": 4}}, \"*\")"
      ],
      "text/plain": [
       "<IPython.core.display.Javascript object>"
      ]
     },
     "metadata": {},
     "output_type": "display_data"
    },
    {
     "data": {
      "text/markdown": [
       "<span style=\"color:#33cc99\">Solution:</span> As you've seen, `ndigits=-1` rounds to the nearest 10, `ndigits=-2` rounds to the nearest 100 and so on. Where might this be useful? Suppose we're dealing with large numbers:\n",
       "\n",
       "> The area of Finland is 338,424 km²  \n",
       "> The area of Greenland is 2,166,086 km²\n",
       "\n",
       "We probably don't care whether it's really 338,424, or 338,425, or 338,177. All those digits of accuracy are just distracting. We can chop them off by calling `round()` with `ndigits=-3`:\n",
       "\n",
       "> The area of Finland is 338,000 km²  \n",
       "> The area of Greenland is 2,166,000 km²\n",
       "\n",
       "(We'll talk about how we would get the commas later when we talk about string formatting :))\n"
      ],
      "text/plain": [
       "Solution: As you've seen, `ndigits=-1` rounds to the nearest 10, `ndigits=-2` rounds to the nearest 100 and so on. Where might this be useful? Suppose we're dealing with large numbers:\n",
       "\n",
       "> The area of Finland is 338,424 km²  \n",
       "> The area of Greenland is 2,166,086 km²\n",
       "\n",
       "We probably don't care whether it's really 338,424, or 338,425, or 338,177. All those digits of accuracy are just distracting. We can chop them off by calling `round()` with `ndigits=-3`:\n",
       "\n",
       "> The area of Finland is 338,000 km²  \n",
       "> The area of Greenland is 2,166,000 km²\n",
       "\n",
       "(We'll talk about how we would get the commas later when we talk about string formatting :))"
      ]
     },
     "metadata": {},
     "output_type": "display_data"
    }
   ],
   "source": [
    "# Check your answer (Run this code cell to receive credit!)\n",
    "q2.solution()"
   ]
  },
  {
   "cell_type": "markdown",
   "id": "800cf2f7",
   "metadata": {
    "papermill": {
     "duration": 0.005225,
     "end_time": "2023-02-19T09:21:54.321789",
     "exception": false,
     "start_time": "2023-02-19T09:21:54.316564",
     "status": "completed"
    },
    "tags": []
   },
   "source": [
    "# 3.\n",
    "\n",
    "In the previous exercise, the candy-sharing friends Alice, Bob and Carol tried to split candies evenly. For the sake of their friendship, any candies left over would be smashed. For example, if they collectively bring home 91 candies, they'll take 30 each and smash 1.\n",
    "\n",
    "Below is a simple function that will calculate the number of candies to smash for *any* number of total candies.\n",
    "\n",
    "Modify it so that it optionally takes a second argument representing the number of friends the candies are being split between. If no second argument is provided, it should assume 3 friends, as before.\n",
    "\n",
    "Update the docstring to reflect this new behaviour."
   ]
  },
  {
   "cell_type": "code",
   "execution_count": 6,
   "id": "cb7b0b75",
   "metadata": {
    "execution": {
     "iopub.execute_input": "2023-02-19T09:21:54.338925Z",
     "iopub.status.busy": "2023-02-19T09:21:54.337182Z",
     "iopub.status.idle": "2023-02-19T09:21:54.351500Z",
     "shell.execute_reply": "2023-02-19T09:21:54.349399Z"
    },
    "papermill": {
     "duration": 0.027367,
     "end_time": "2023-02-19T09:21:54.354869",
     "exception": false,
     "start_time": "2023-02-19T09:21:54.327502",
     "status": "completed"
    },
    "tags": []
   },
   "outputs": [
    {
     "data": {
      "application/javascript": [
       "parent.postMessage({\"jupyterEvent\": \"custom.exercise_interaction\", \"data\": {\"outcomeType\": 1, \"valueTowardsCompletion\": 0.16666666666666666, \"interactionType\": 1, \"questionType\": 2, \"questionId\": \"3_CandySmashingFunctionProblem\", \"learnToolsVersion\": \"0.3.4\", \"failureMessage\": \"\", \"exceptionClass\": \"\", \"trace\": \"\"}}, \"*\")"
      ],
      "text/plain": [
       "<IPython.core.display.Javascript object>"
      ]
     },
     "metadata": {},
     "output_type": "display_data"
    },
    {
     "data": {
      "text/markdown": [
       "<span style=\"color:#33cc33\">Correct</span>"
      ],
      "text/plain": [
       "Correct"
      ]
     },
     "metadata": {},
     "output_type": "display_data"
    }
   ],
   "source": [
    "def to_smash(total_candies, n_friends=3):\n",
    "    return total_candies % n_friends\n",
    "\n",
    "# Check your answer\n",
    "q3.check()"
   ]
  },
  {
   "cell_type": "code",
   "execution_count": 7,
   "id": "50850e35",
   "metadata": {
    "execution": {
     "iopub.execute_input": "2023-02-19T09:21:54.375504Z",
     "iopub.status.busy": "2023-02-19T09:21:54.373846Z",
     "iopub.status.idle": "2023-02-19T09:21:54.380508Z",
     "shell.execute_reply": "2023-02-19T09:21:54.379488Z"
    },
    "papermill": {
     "duration": 0.019093,
     "end_time": "2023-02-19T09:21:54.383169",
     "exception": false,
     "start_time": "2023-02-19T09:21:54.364076",
     "status": "completed"
    },
    "tags": []
   },
   "outputs": [],
   "source": [
    "#q3.hint()"
   ]
  },
  {
   "cell_type": "code",
   "execution_count": 8,
   "id": "b0a71d23",
   "metadata": {
    "execution": {
     "iopub.execute_input": "2023-02-19T09:21:54.398788Z",
     "iopub.status.busy": "2023-02-19T09:21:54.398262Z",
     "iopub.status.idle": "2023-02-19T09:21:54.410579Z",
     "shell.execute_reply": "2023-02-19T09:21:54.409253Z"
    },
    "papermill": {
     "duration": 0.024047,
     "end_time": "2023-02-19T09:21:54.413237",
     "exception": false,
     "start_time": "2023-02-19T09:21:54.389190",
     "status": "completed"
    },
    "tags": []
   },
   "outputs": [
    {
     "data": {
      "application/javascript": [
       "parent.postMessage({\"jupyterEvent\": \"custom.exercise_interaction\", \"data\": {\"interactionType\": 3, \"questionType\": 2, \"questionId\": \"3_CandySmashingFunctionProblem\", \"learnToolsVersion\": \"0.3.4\", \"valueTowardsCompletion\": 0.0, \"failureMessage\": \"\", \"exceptionClass\": \"\", \"trace\": \"\", \"outcomeType\": 4}}, \"*\")"
      ],
      "text/plain": [
       "<IPython.core.display.Javascript object>"
      ]
     },
     "metadata": {},
     "output_type": "display_data"
    },
    {
     "data": {
      "text/markdown": [
       "<span style=\"color:#33cc99\">Solution:</span> \n",
       "```python\n",
       "def to_smash(total_candies, n_friends=3):\n",
       "    return total_candies % n_friends\n",
       "```"
      ],
      "text/plain": [
       "Solution: \n",
       "```python\n",
       "def to_smash(total_candies, n_friends=3):\n",
       "    return total_candies % n_friends\n",
       "```"
      ]
     },
     "metadata": {},
     "output_type": "display_data"
    }
   ],
   "source": [
    "q3.solution()"
   ]
  },
  {
   "cell_type": "markdown",
   "id": "0bf3d9da",
   "metadata": {
    "papermill": {
     "duration": 0.005829,
     "end_time": "2023-02-19T09:21:54.425367",
     "exception": false,
     "start_time": "2023-02-19T09:21:54.419538",
     "status": "completed"
    },
    "tags": []
   },
   "source": [
    "# 4. (Optional)\n",
    "\n",
    "It may not be fun, but reading and understanding error messages will be an important part of your Python career.\n",
    "\n",
    "Each code cell below contains some commented buggy code. For each cell...\n",
    "\n",
    "1. Read the code and predict what you think will happen when it's run.\n",
    "2. Then uncomment the code and run it to see what happens. (**Tip**: In the kernel editor, you can highlight several lines and press `ctrl`+`/` to toggle commenting.)\n",
    "3. Fix the code (so that it accomplishes its intended purpose without throwing an exception)\n",
    "\n",
    "<!-- TODO: should this be autochecked? Delta is probably pretty small. -->"
   ]
  },
  {
   "cell_type": "code",
   "execution_count": 9,
   "id": "a0452ea6",
   "metadata": {
    "execution": {
     "iopub.execute_input": "2023-02-19T09:21:54.440770Z",
     "iopub.status.busy": "2023-02-19T09:21:54.439743Z",
     "iopub.status.idle": "2023-02-19T09:21:54.445408Z",
     "shell.execute_reply": "2023-02-19T09:21:54.444417Z"
    },
    "papermill": {
     "duration": 0.016422,
     "end_time": "2023-02-19T09:21:54.448156",
     "exception": false,
     "start_time": "2023-02-19T09:21:54.431734",
     "status": "completed"
    },
    "tags": []
   },
   "outputs": [],
   "source": [
    "# ruound_to_two_places(9.9999)"
   ]
  },
  {
   "cell_type": "code",
   "execution_count": 10,
   "id": "2a721de4",
   "metadata": {
    "execution": {
     "iopub.execute_input": "2023-02-19T09:21:54.463497Z",
     "iopub.status.busy": "2023-02-19T09:21:54.462205Z",
     "iopub.status.idle": "2023-02-19T09:21:54.467596Z",
     "shell.execute_reply": "2023-02-19T09:21:54.466686Z"
    },
    "papermill": {
     "duration": 0.015693,
     "end_time": "2023-02-19T09:21:54.470114",
     "exception": false,
     "start_time": "2023-02-19T09:21:54.454421",
     "status": "completed"
    },
    "tags": []
   },
   "outputs": [],
   "source": [
    "# x = -10\n",
    "# y = 5\n",
    "# # Which of the two variables above has the smallest absolute value?\n",
    "# smallest_abs = min(abs(x, y))"
   ]
  },
  {
   "cell_type": "code",
   "execution_count": 11,
   "id": "5c3c2dba",
   "metadata": {
    "execution": {
     "iopub.execute_input": "2023-02-19T09:21:54.486924Z",
     "iopub.status.busy": "2023-02-19T09:21:54.486054Z",
     "iopub.status.idle": "2023-02-19T09:21:54.491150Z",
     "shell.execute_reply": "2023-02-19T09:21:54.490029Z"
    },
    "papermill": {
     "duration": 0.016416,
     "end_time": "2023-02-19T09:21:54.493770",
     "exception": false,
     "start_time": "2023-02-19T09:21:54.477354",
     "status": "completed"
    },
    "tags": []
   },
   "outputs": [],
   "source": [
    "# def f(x):\n",
    "#     y = abs(x)\n",
    "# return y\n",
    "\n",
    "# print(f(5))"
   ]
  },
  {
   "cell_type": "markdown",
   "id": "37731095",
   "metadata": {
    "papermill": {
     "duration": 0.006367,
     "end_time": "2023-02-19T09:21:54.507217",
     "exception": false,
     "start_time": "2023-02-19T09:21:54.500850",
     "status": "completed"
    },
    "tags": []
   },
   "source": [
    "# Keep Going\n",
    "\n",
    "Nice job with the code. Next up, you'll learn about *conditionals*, which you'll need to **[write interesting programs](https://www.kaggle.com/colinmorris/booleans-and-conditionals)**. "
   ]
  },
  {
   "cell_type": "markdown",
   "id": "5129272a",
   "metadata": {
    "papermill": {
     "duration": 0.006202,
     "end_time": "2023-02-19T09:21:54.520093",
     "exception": false,
     "start_time": "2023-02-19T09:21:54.513891",
     "status": "completed"
    },
    "tags": []
   },
   "source": [
    "---\n",
    "\n",
    "\n",
    "\n",
    "\n",
    "*Have questions or comments? Visit the [course discussion forum](https://www.kaggle.com/learn/python/discussion) to chat with other learners.*"
   ]
  }
 ],
 "metadata": {
  "kernelspec": {
   "display_name": "Python 3",
   "language": "python",
   "name": "python3"
  },
  "language_info": {
   "codemirror_mode": {
    "name": "ipython",
    "version": 3
   },
   "file_extension": ".py",
   "mimetype": "text/x-python",
   "name": "python",
   "nbconvert_exporter": "python",
   "pygments_lexer": "ipython3",
   "version": "3.7.12"
  },
  "papermill": {
   "default_parameters": {},
   "duration": 11.050832,
   "end_time": "2023-02-19T09:21:55.552113",
   "environment_variables": {},
   "exception": null,
   "input_path": "__notebook__.ipynb",
   "output_path": "__notebook__.ipynb",
   "parameters": {},
   "start_time": "2023-02-19T09:21:44.501281",
   "version": "2.3.4"
  }
 },
 "nbformat": 4,
 "nbformat_minor": 5
}
